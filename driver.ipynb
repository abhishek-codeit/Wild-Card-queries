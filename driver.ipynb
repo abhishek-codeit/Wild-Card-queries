{
 "cells": [
  {
   "cell_type": "code",
   "execution_count": 2,
   "metadata": {},
   "outputs": [
    {
     "name": "stdout",
     "output_type": "stream",
     "text": [
      "Defaulting to user installation because normal site-packages is not writeable\n",
      "Requirement already satisfied: gensim in /home/abhishek/.local/lib/python3.10/site-packages (4.3.0)\n",
      "Requirement already satisfied: smart-open>=1.8.1 in /home/abhishek/.local/lib/python3.10/site-packages (from gensim) (6.3.0)\n",
      "Requirement already satisfied: FuzzyTM>=0.4.0 in /home/abhishek/.local/lib/python3.10/site-packages (from gensim) (2.0.5)\n",
      "Requirement already satisfied: scipy>=1.7.0 in /home/abhishek/.local/lib/python3.10/site-packages (from gensim) (1.9.3)\n",
      "Requirement already satisfied: numpy>=1.18.5 in /home/abhishek/.local/lib/python3.10/site-packages (from gensim) (1.23.4)\n",
      "Requirement already satisfied: pyfume in /home/abhishek/.local/lib/python3.10/site-packages (from FuzzyTM>=0.4.0->gensim) (0.2.25)\n",
      "Requirement already satisfied: pandas in /home/abhishek/.local/lib/python3.10/site-packages (from FuzzyTM>=0.4.0->gensim) (1.5.1)\n",
      "Requirement already satisfied: python-dateutil>=2.8.1 in /home/abhishek/.local/lib/python3.10/site-packages (from pandas->FuzzyTM>=0.4.0->gensim) (2.8.2)\n",
      "Requirement already satisfied: pytz>=2020.1 in /usr/lib/python3/dist-packages (from pandas->FuzzyTM>=0.4.0->gensim) (2022.1)\n",
      "Requirement already satisfied: simpful in /home/abhishek/.local/lib/python3.10/site-packages (from pyfume->FuzzyTM>=0.4.0->gensim) (2.9.0)\n",
      "Requirement already satisfied: fst-pso in /home/abhishek/.local/lib/python3.10/site-packages (from pyfume->FuzzyTM>=0.4.0->gensim) (1.8.1)\n",
      "Requirement already satisfied: six>=1.5 in /usr/lib/python3/dist-packages (from python-dateutil>=2.8.1->pandas->FuzzyTM>=0.4.0->gensim) (1.16.0)\n",
      "Requirement already satisfied: miniful in /home/abhishek/.local/lib/python3.10/site-packages (from fst-pso->pyfume->FuzzyTM>=0.4.0->gensim) (0.0.6)\n",
      "Requirement already satisfied: requests in /home/abhishek/.local/lib/python3.10/site-packages (from simpful->pyfume->FuzzyTM>=0.4.0->gensim) (2.28.1)\n",
      "Requirement already satisfied: idna<4,>=2.5 in /usr/lib/python3/dist-packages (from requests->simpful->pyfume->FuzzyTM>=0.4.0->gensim) (3.3)\n",
      "Requirement already satisfied: certifi>=2017.4.17 in /usr/lib/python3/dist-packages (from requests->simpful->pyfume->FuzzyTM>=0.4.0->gensim) (2020.6.20)\n",
      "Requirement already satisfied: urllib3<1.27,>=1.21.1 in /usr/lib/python3/dist-packages (from requests->simpful->pyfume->FuzzyTM>=0.4.0->gensim) (1.26.5)\n",
      "Requirement already satisfied: charset-normalizer<3,>=2 in /home/abhishek/.local/lib/python3.10/site-packages (from requests->simpful->pyfume->FuzzyTM>=0.4.0->gensim) (2.1.1)\n"
     ]
    }
   ],
   "source": [
    "!pip install gensim"
   ]
  },
  {
   "cell_type": "code",
   "execution_count": 3,
   "metadata": {},
   "outputs": [],
   "source": [
    "import pandas as pd;    \n",
    "from gensim.utils import tokenize"
   ]
  },
  {
   "cell_type": "code",
   "execution_count": 4,
   "metadata": {},
   "outputs": [],
   "source": [
    "doc1 = open(\"doc1.txt\",'r').read()\n",
    "doc2 = open(\"doc2.txt\",'r').read()"
   ]
  },
  {
   "cell_type": "code",
   "execution_count": null,
   "metadata": {},
   "outputs": [],
   "source": [
    "tok_1 = list(tokenize(doc1))\n",
    "tok_2 = list(tokenize(doc2))\n",
    "\n",
    "dic = dict()\n",
    "\n",
    "for i in tok_1:\n",
    "    dic[i] = 1\n",
    "    \n",
    "for i in tok_2:\n",
    "    dic[i] = 2\n",
    "\n",
    "# print(dic)\n",
    "print(dic)"
   ]
  },
  {
   "cell_type": "code",
   "execution_count": null,
   "metadata": {},
   "outputs": [],
   "source": [
    "permuterms = {}\n",
    "keys = {}\n",
    "kgram = 2\n",
    "for k,v in dic.items():\n",
    "    val = '$'+k+'$'\n",
    "    keys[val] = v\n",
    "    \n",
    "print(keys)"
   ]
  },
  {
   "cell_type": "code",
   "execution_count": 37,
   "metadata": {},
   "outputs": [
    {
     "name": "stdout",
     "output_type": "stream",
     "text": [
      "['$invalid$', '$validated$', '$valid$', '$Medieval$', '$medieval$', '$valuable$', '$intervals$', '$values$', '$value$', '$equivalent$', '$equivalence$']\n"
     ]
    }
   ],
   "source": [
    "permuterms = {}\n",
    "keys = []\n",
    "kgram = 2\n",
    "for k,v in dic.items():\n",
    "    val = '$'+k+'$'\n",
    "    keys.append(val)\n",
    "    \n",
    "\n",
    "def producePermuterm(token,kgram):\n",
    "    \n",
    "    val = [token[i:i+kgram] for i in range(len(token) - kgram+ 1)]\n",
    "    return val\n",
    "\n",
    "\n",
    "for i in keys:\n",
    "    val = producePermuterm(i,3)\n",
    "    permuterms[i] = val\n",
    "\n",
    "\n",
    "query = \"val\"\n",
    "result = []\n",
    "\n",
    "q_perm = {}\n",
    "q_perm[query] = producePermuterm(query,3)\n",
    "\n",
    "for k,v in permuterms.items():\n",
    "    for qk,qv in q_perm.items():\n",
    "        for i in v:\n",
    "            for j in qv:\n",
    "                if i == j:\n",
    "                    result.append(k)\n",
    "\n",
    "print(result)"
   ]
  },
  {
   "cell_type": "code",
   "execution_count": 46,
   "metadata": {},
   "outputs": [
    {
     "name": "stdout",
     "output_type": "stream",
     "text": [
      "['val']\n",
      "['invalid', 'validated', 'valid', 'Medieval', 'medieval', 'valuable', 'intervals', 'values', 'value', 'equivalent', 'equivalence']\n",
      "WildCard Query DocID\n",
      "   WildCard Query  DocID\n",
      "0         invalid      1\n",
      "1       validated      1\n",
      "2           valid      1\n",
      "3        Medieval      2\n",
      "4        medieval      2\n",
      "5        valuable      2\n",
      "6       intervals      2\n",
      "7          values      2\n",
      "8           value      2\n",
      "9      equivalent      2\n",
      "10    equivalence      2\n"
     ]
    }
   ],
   "source": [
    "va = []\n",
    "for i in result:\n",
    "    i = i.replace('$','')\n",
    "    va.append(i)\n",
    "# print(va)\n",
    "\n",
    "print(producePermuterm(query,len(query)))\n",
    "filtered = []\n",
    "def filtering(va,query):\n",
    "    fq_perma = producePermuterm(query,len(query))\n",
    "    for i in va:\n",
    "        f_perma = producePermuterm(i,len(query))\n",
    "        \n",
    "        for j in f_perma:\n",
    "            for k in fq_perma:\n",
    "                if k == j:\n",
    "                    filtered.append(i)\n",
    "filtering(va,query)\n",
    "print(filtered) \n",
    "\n",
    "print(\"WildCard Query\",\"DocID\")\n",
    "index = []\n",
    "for i in filtered:\n",
    "    index.append(dic[i])\n",
    "\n",
    "\n",
    "data = {'WildCard Query':filtered,'DocID':index}\n",
    "theEnd = pd.DataFrame(data)\n",
    "print(theEnd)"
   ]
  },
  {
   "cell_type": "code",
   "execution_count": null,
   "metadata": {},
   "outputs": [],
   "source": []
  }
 ],
 "metadata": {
  "kernelspec": {
   "display_name": "Python 3",
   "language": "python",
   "name": "python3"
  },
  "language_info": {
   "codemirror_mode": {
    "name": "ipython",
    "version": 3
   },
   "file_extension": ".py",
   "mimetype": "text/x-python",
   "name": "python",
   "nbconvert_exporter": "python",
   "pygments_lexer": "ipython3",
   "version": "3.10.6"
  },
  "orig_nbformat": 4,
  "vscode": {
   "interpreter": {
    "hash": "916dbcbb3f70747c44a77c7bcd40155683ae19c65e1c03b4aa3499c5328201f1"
   }
  }
 },
 "nbformat": 4,
 "nbformat_minor": 2
}
